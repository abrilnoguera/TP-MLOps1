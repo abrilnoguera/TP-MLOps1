{
 "cells": [
  {
   "cell_type": "code",
   "execution_count": 14,
   "metadata": {
    "ExecuteTime": {
     "end_time": "2024-06-06T12:33:18.162188Z",
     "start_time": "2024-06-06T12:33:18.155786Z"
    }
   },
   "outputs": [
    {
     "name": "stdout",
     "output_type": "stream",
     "text": [
      "env: AWS_ACCESS_KEY_ID=minio\n",
      "env: AWS_SECRET_ACCESS_KEY=minio123\n",
      "env: MLFLOW_S3_ENDPOINT_URL=http://localhost:9000\n",
      "env: AWS_ENDPOINT_URL_S3=http://localhost:9000\n"
     ]
    }
   ],
   "source": [
    "import awswrangler as wr\n",
    "\n",
    "import mlflow\n",
    "\n",
    "# Para que funciones, todos nuestros scripts debemos exportar las siguientes variables de entorno\n",
    "%env AWS_ACCESS_KEY_ID=minio   \n",
    "%env AWS_SECRET_ACCESS_KEY=minio123 \n",
    "%env MLFLOW_S3_ENDPOINT_URL=http://localhost:9000\n",
    "%env AWS_ENDPOINT_URL_S3=http://localhost:9000\n",
    "#%env MLFLOW_S3_ENDPOINT_URL=http://192.168.0.21:9000\n",
    "#%env AWS_ENDPOINT_URL_S3=http://192.168.0.21:9000"
   ]
  },
  {
   "cell_type": "markdown",
   "metadata": {},
   "source": [
    "# Búsqueda de mejor modelo e hiperparámetros\n",
    "\n",
    "Dado nuestro dataset de Airbnb, el cual ya pasó por el proceso de ETL y se encuentra en nuestro S3 bucket, vamos a realizar una búsqueda de cual seria el mejor modelo y que hiperparametros usar.\n",
    "\n",
    "La búsqueda de hiperparametros la haremos usando Optuna y el tracking será realizado mediante MLFlow.\n",
    "\n",
    "OBS: Para la confección de esta notebook, nos basamos en el tutorial de [MLFlow](https://mlflow.org/docs/latest/traditional-ml/hyperparameter-tuning-with-child-runs/notebooks/index.html)."
   ]
  },
  {
   "cell_type": "code",
   "execution_count": 15,
   "metadata": {
    "ExecuteTime": {
     "end_time": "2024-06-06T12:33:21.563179Z",
     "start_time": "2024-06-06T12:33:21.560951Z"
    }
   },
   "outputs": [],
   "source": [
    "mlflow_server = \"http://localhost:5001\"\n",
    "#mlflow_server = \"http://192.168.0.21:5001\"\n",
    "\n",
    "mlflow.set_tracking_uri(mlflow_server)"
   ]
  },
  {
   "cell_type": "code",
   "execution_count": 16,
   "metadata": {
    "ExecuteTime": {
     "end_time": "2024-06-06T12:33:22.668794Z",
     "start_time": "2024-06-06T12:33:22.215467Z"
    }
   },
   "outputs": [
    {
     "name": "stdout",
     "output_type": "stream",
     "text": [
      "Shape de X_train: (22113, 78)\n",
      "Shape de y_train: (22113, 1)\n",
      "Shape de X_test: (9478, 78)\n",
      "Shape de y_test: (9478, 1)\n"
     ]
    }
   ],
   "source": [
    "# Cargamos los datos para realizar nuestro estudio.\n",
    "# OBS, no vamos a cargar los datos de testing, nada de Data leakage por aquí\n",
    "X_train =  wr.s3.read_csv(\"s3://data/final/train/airbnb_X_train.csv\")\n",
    "y_train =  wr.s3.read_csv(\"s3://data/final/train/airbnb_y_train.csv\")\n",
    "\n",
    "X_test =  wr.s3.read_csv(\"s3://data/final/test/airbnb_X_test.csv\")\n",
    "y_test =  wr.s3.read_csv(\"s3://data/final/test/airbnb_y_test.csv\")\n",
    "\n",
    "print(f\"Shape de X_train: {X_train.shape}\")\n",
    "print(f\"Shape de y_train: {y_train.shape}\")\n",
    "print(f\"Shape de X_test: {X_test.shape}\")  \n",
    "print(f\"Shape de y_test: {y_test.shape}\")"
   ]
  },
  {
   "cell_type": "code",
   "execution_count": 17,
   "metadata": {},
   "outputs": [
    {
     "data": {
      "text/html": [
       "<div>\n",
       "<style scoped>\n",
       "    .dataframe tbody tr th:only-of-type {\n",
       "        vertical-align: middle;\n",
       "    }\n",
       "\n",
       "    .dataframe tbody tr th {\n",
       "        vertical-align: top;\n",
       "    }\n",
       "\n",
       "    .dataframe thead th {\n",
       "        text-align: right;\n",
       "    }\n",
       "</style>\n",
       "<table border=\"1\" class=\"dataframe\">\n",
       "  <thead>\n",
       "    <tr style=\"text-align: right;\">\n",
       "      <th></th>\n",
       "      <th>latitude</th>\n",
       "      <th>longitude</th>\n",
       "      <th>accommodates</th>\n",
       "      <th>bedrooms</th>\n",
       "      <th>beds</th>\n",
       "      <th>price</th>\n",
       "      <th>minimum_nights</th>\n",
       "      <th>maximum_nights</th>\n",
       "      <th>number_of_reviews</th>\n",
       "      <th>review_scores_rating</th>\n",
       "      <th>...</th>\n",
       "      <th>property_type_Shared room in hotel</th>\n",
       "      <th>property_type_Shared room in loft</th>\n",
       "      <th>property_type_Shared room in rental unit</th>\n",
       "      <th>property_type_Shared room in tent</th>\n",
       "      <th>property_type_Shared room in villa</th>\n",
       "      <th>property_type_Tiny home</th>\n",
       "      <th>property_type_Tower</th>\n",
       "      <th>room_type_Hotel room</th>\n",
       "      <th>room_type_Private room</th>\n",
       "      <th>room_type_Shared room</th>\n",
       "    </tr>\n",
       "  </thead>\n",
       "  <tbody>\n",
       "    <tr>\n",
       "      <th>0</th>\n",
       "      <td>-0.316174</td>\n",
       "      <td>1.324221</td>\n",
       "      <td>0.028897</td>\n",
       "      <td>-0.186296</td>\n",
       "      <td>0.065425</td>\n",
       "      <td>-0.057579</td>\n",
       "      <td>-0.177515</td>\n",
       "      <td>-0.116602</td>\n",
       "      <td>-0.400772</td>\n",
       "      <td>0.112030</td>\n",
       "      <td>...</td>\n",
       "      <td>0.0</td>\n",
       "      <td>0.0</td>\n",
       "      <td>0.0</td>\n",
       "      <td>0.0</td>\n",
       "      <td>0.0</td>\n",
       "      <td>0.0</td>\n",
       "      <td>0.0</td>\n",
       "      <td>0.0</td>\n",
       "      <td>0.0</td>\n",
       "      <td>0.0</td>\n",
       "    </tr>\n",
       "    <tr>\n",
       "      <th>1</th>\n",
       "      <td>1.024366</td>\n",
       "      <td>-0.729501</td>\n",
       "      <td>0.028897</td>\n",
       "      <td>-0.186296</td>\n",
       "      <td>0.065425</td>\n",
       "      <td>-0.053007</td>\n",
       "      <td>-0.118336</td>\n",
       "      <td>1.928279</td>\n",
       "      <td>1.251697</td>\n",
       "      <td>-0.523804</td>\n",
       "      <td>...</td>\n",
       "      <td>0.0</td>\n",
       "      <td>0.0</td>\n",
       "      <td>0.0</td>\n",
       "      <td>0.0</td>\n",
       "      <td>0.0</td>\n",
       "      <td>0.0</td>\n",
       "      <td>0.0</td>\n",
       "      <td>0.0</td>\n",
       "      <td>0.0</td>\n",
       "      <td>0.0</td>\n",
       "    </tr>\n",
       "    <tr>\n",
       "      <th>2</th>\n",
       "      <td>1.526138</td>\n",
       "      <td>-1.571190</td>\n",
       "      <td>-0.615911</td>\n",
       "      <td>-0.186296</td>\n",
       "      <td>0.707846</td>\n",
       "      <td>-0.044777</td>\n",
       "      <td>-0.118336</td>\n",
       "      <td>-0.937245</td>\n",
       "      <td>-0.593918</td>\n",
       "      <td>0.657031</td>\n",
       "      <td>...</td>\n",
       "      <td>0.0</td>\n",
       "      <td>0.0</td>\n",
       "      <td>0.0</td>\n",
       "      <td>0.0</td>\n",
       "      <td>0.0</td>\n",
       "      <td>0.0</td>\n",
       "      <td>0.0</td>\n",
       "      <td>0.0</td>\n",
       "      <td>0.0</td>\n",
       "      <td>0.0</td>\n",
       "    </tr>\n",
       "    <tr>\n",
       "      <th>3</th>\n",
       "      <td>1.396405</td>\n",
       "      <td>-1.382108</td>\n",
       "      <td>-0.615911</td>\n",
       "      <td>-1.308487</td>\n",
       "      <td>0.065425</td>\n",
       "      <td>-0.057579</td>\n",
       "      <td>-0.118336</td>\n",
       "      <td>-1.042180</td>\n",
       "      <td>0.178665</td>\n",
       "      <td>0.323975</td>\n",
       "      <td>...</td>\n",
       "      <td>0.0</td>\n",
       "      <td>0.0</td>\n",
       "      <td>0.0</td>\n",
       "      <td>0.0</td>\n",
       "      <td>0.0</td>\n",
       "      <td>0.0</td>\n",
       "      <td>0.0</td>\n",
       "      <td>0.0</td>\n",
       "      <td>0.0</td>\n",
       "      <td>0.0</td>\n",
       "    </tr>\n",
       "    <tr>\n",
       "      <th>4</th>\n",
       "      <td>0.543755</td>\n",
       "      <td>-0.536490</td>\n",
       "      <td>-0.615911</td>\n",
       "      <td>-1.308487</td>\n",
       "      <td>-0.576997</td>\n",
       "      <td>-0.054003</td>\n",
       "      <td>-0.177515</td>\n",
       "      <td>-0.116602</td>\n",
       "      <td>1.165854</td>\n",
       "      <td>0.293697</td>\n",
       "      <td>...</td>\n",
       "      <td>0.0</td>\n",
       "      <td>0.0</td>\n",
       "      <td>0.0</td>\n",
       "      <td>0.0</td>\n",
       "      <td>0.0</td>\n",
       "      <td>0.0</td>\n",
       "      <td>0.0</td>\n",
       "      <td>0.0</td>\n",
       "      <td>0.0</td>\n",
       "      <td>0.0</td>\n",
       "    </tr>\n",
       "  </tbody>\n",
       "</table>\n",
       "<p>5 rows × 78 columns</p>\n",
       "</div>"
      ],
      "text/plain": [
       "   latitude  longitude  accommodates  bedrooms      beds     price  \\\n",
       "0 -0.316174   1.324221      0.028897 -0.186296  0.065425 -0.057579   \n",
       "1  1.024366  -0.729501      0.028897 -0.186296  0.065425 -0.053007   \n",
       "2  1.526138  -1.571190     -0.615911 -0.186296  0.707846 -0.044777   \n",
       "3  1.396405  -1.382108     -0.615911 -1.308487  0.065425 -0.057579   \n",
       "4  0.543755  -0.536490     -0.615911 -1.308487 -0.576997 -0.054003   \n",
       "\n",
       "   minimum_nights  maximum_nights  number_of_reviews  review_scores_rating  \\\n",
       "0       -0.177515       -0.116602          -0.400772              0.112030   \n",
       "1       -0.118336        1.928279           1.251697             -0.523804   \n",
       "2       -0.118336       -0.937245          -0.593918              0.657031   \n",
       "3       -0.118336       -1.042180           0.178665              0.323975   \n",
       "4       -0.177515       -0.116602           1.165854              0.293697   \n",
       "\n",
       "   ...  property_type_Shared room in hotel  property_type_Shared room in loft  \\\n",
       "0  ...                                 0.0                                0.0   \n",
       "1  ...                                 0.0                                0.0   \n",
       "2  ...                                 0.0                                0.0   \n",
       "3  ...                                 0.0                                0.0   \n",
       "4  ...                                 0.0                                0.0   \n",
       "\n",
       "   property_type_Shared room in rental unit  \\\n",
       "0                                       0.0   \n",
       "1                                       0.0   \n",
       "2                                       0.0   \n",
       "3                                       0.0   \n",
       "4                                       0.0   \n",
       "\n",
       "   property_type_Shared room in tent  property_type_Shared room in villa  \\\n",
       "0                                0.0                                 0.0   \n",
       "1                                0.0                                 0.0   \n",
       "2                                0.0                                 0.0   \n",
       "3                                0.0                                 0.0   \n",
       "4                                0.0                                 0.0   \n",
       "\n",
       "   property_type_Tiny home  property_type_Tower  room_type_Hotel room  \\\n",
       "0                      0.0                  0.0                   0.0   \n",
       "1                      0.0                  0.0                   0.0   \n",
       "2                      0.0                  0.0                   0.0   \n",
       "3                      0.0                  0.0                   0.0   \n",
       "4                      0.0                  0.0                   0.0   \n",
       "\n",
       "   room_type_Private room  room_type_Shared room  \n",
       "0                     0.0                    0.0  \n",
       "1                     0.0                    0.0  \n",
       "2                     0.0                    0.0  \n",
       "3                     0.0                    0.0  \n",
       "4                     0.0                    0.0  \n",
       "\n",
       "[5 rows x 78 columns]"
      ]
     },
     "execution_count": 17,
     "metadata": {},
     "output_type": "execute_result"
    }
   ],
   "source": [
    "X_train.head()"
   ]
  },
  {
   "cell_type": "code",
   "execution_count": 18,
   "metadata": {},
   "outputs": [
    {
     "name": "stdout",
     "output_type": "stream",
     "text": [
      "<class 'pandas.core.frame.DataFrame'>\n",
      "RangeIndex: 22113 entries, 0 to 22112\n",
      "Data columns (total 78 columns):\n",
      " #   Column                                            Non-Null Count  Dtype  \n",
      "---  ------                                            --------------  -----  \n",
      " 0   latitude                                          22113 non-null  float64\n",
      " 1   longitude                                         22113 non-null  float64\n",
      " 2   accommodates                                      22113 non-null  float64\n",
      " 3   bedrooms                                          22113 non-null  float64\n",
      " 4   beds                                              22113 non-null  float64\n",
      " 5   price                                             22113 non-null  float64\n",
      " 6   minimum_nights                                    22113 non-null  float64\n",
      " 7   maximum_nights                                    22113 non-null  float64\n",
      " 8   number_of_reviews                                 22113 non-null  float64\n",
      " 9   review_scores_rating                              22113 non-null  float64\n",
      " 10  review_scores_accuracy                            22113 non-null  float64\n",
      " 11  review_scores_cleanliness                         22113 non-null  float64\n",
      " 12  review_scores_checkin                             22113 non-null  float64\n",
      " 13  review_scores_communication                       22113 non-null  float64\n",
      " 14  review_scores_location                            22113 non-null  float64\n",
      " 15  review_scores_value                               22113 non-null  float64\n",
      " 16  instant_bookable                                  22113 non-null  float64\n",
      " 17  host_is_superhost                                 22113 non-null  float64\n",
      " 18  host_listings_count                               22113 non-null  float64\n",
      " 19  host_total_listings_count                         22113 non-null  float64\n",
      " 20  property_type_Camper/RV                           22113 non-null  float64\n",
      " 21  property_type_Casa particular                     22113 non-null  float64\n",
      " 22  property_type_Castle                              22113 non-null  float64\n",
      " 23  property_type_Entire bungalow                     22113 non-null  float64\n",
      " 24  property_type_Entire cabin                        22113 non-null  float64\n",
      " 25  property_type_Entire chalet                       22113 non-null  float64\n",
      " 26  property_type_Entire condo                        22113 non-null  float64\n",
      " 27  property_type_Entire guest suite                  22113 non-null  float64\n",
      " 28  property_type_Entire guesthouse                   22113 non-null  float64\n",
      " 29  property_type_Entire home                         22113 non-null  float64\n",
      " 30  property_type_Entire home/apt                     22113 non-null  float64\n",
      " 31  property_type_Entire loft                         22113 non-null  float64\n",
      " 32  property_type_Entire place                        22113 non-null  float64\n",
      " 33  property_type_Entire rental unit                  22113 non-null  float64\n",
      " 34  property_type_Entire serviced apartment           22113 non-null  float64\n",
      " 35  property_type_Entire townhouse                    22113 non-null  float64\n",
      " 36  property_type_Entire vacation home                22113 non-null  float64\n",
      " 37  property_type_Entire villa                        22113 non-null  float64\n",
      " 38  property_type_Private room                        22113 non-null  float64\n",
      " 39  property_type_Private room in bed and breakfast   22113 non-null  float64\n",
      " 40  property_type_Private room in casa particular     22113 non-null  float64\n",
      " 41  property_type_Private room in castle              22113 non-null  float64\n",
      " 42  property_type_Private room in chalet              22113 non-null  float64\n",
      " 43  property_type_Private room in condo               22113 non-null  float64\n",
      " 44  property_type_Private room in guest suite         22113 non-null  float64\n",
      " 45  property_type_Private room in guesthouse          22113 non-null  float64\n",
      " 46  property_type_Private room in home                22113 non-null  float64\n",
      " 47  property_type_Private room in hostel              22113 non-null  float64\n",
      " 48  property_type_Private room in loft                22113 non-null  float64\n",
      " 49  property_type_Private room in rental unit         22113 non-null  float64\n",
      " 50  property_type_Private room in resort              22113 non-null  float64\n",
      " 51  property_type_Private room in serviced apartment  22113 non-null  float64\n",
      " 52  property_type_Private room in tiny home           22113 non-null  float64\n",
      " 53  property_type_Private room in townhouse           22113 non-null  float64\n",
      " 54  property_type_Private room in vacation home       22113 non-null  float64\n",
      " 55  property_type_Private room in villa               22113 non-null  float64\n",
      " 56  property_type_Room in aparthotel                  22113 non-null  float64\n",
      " 57  property_type_Room in bed and breakfast           22113 non-null  float64\n",
      " 58  property_type_Room in boutique hotel              22113 non-null  float64\n",
      " 59  property_type_Room in hostel                      22113 non-null  float64\n",
      " 60  property_type_Room in hotel                       22113 non-null  float64\n",
      " 61  property_type_Room in serviced apartment          22113 non-null  float64\n",
      " 62  property_type_Shared room                         22113 non-null  float64\n",
      " 63  property_type_Shared room in bed and breakfast    22113 non-null  float64\n",
      " 64  property_type_Shared room in casa particular      22113 non-null  float64\n",
      " 65  property_type_Shared room in guesthouse           22113 non-null  float64\n",
      " 66  property_type_Shared room in home                 22113 non-null  float64\n",
      " 67  property_type_Shared room in hostel               22113 non-null  float64\n",
      " 68  property_type_Shared room in hotel                22113 non-null  float64\n",
      " 69  property_type_Shared room in loft                 22113 non-null  float64\n",
      " 70  property_type_Shared room in rental unit          22113 non-null  float64\n",
      " 71  property_type_Shared room in tent                 22113 non-null  float64\n",
      " 72  property_type_Shared room in villa                22113 non-null  float64\n",
      " 73  property_type_Tiny home                           22113 non-null  float64\n",
      " 74  property_type_Tower                               22113 non-null  float64\n",
      " 75  room_type_Hotel room                              22113 non-null  float64\n",
      " 76  room_type_Private room                            22113 non-null  float64\n",
      " 77  room_type_Shared room                             22113 non-null  float64\n",
      "dtypes: float64(78)\n",
      "memory usage: 13.2 MB\n"
     ]
    }
   ],
   "source": [
    "X_train.info()"
   ]
  },
  {
   "cell_type": "markdown",
   "metadata": {},
   "source": [
    "## Investigamos la correlación de features con la variable objetivo\n",
    "\n",
    "Antes de profundizar en el proceso de construcción de modelo, es esencial comprender las relaciones entre nuestras features  y la variable objetivo. Por lo que vamos a realizar un gráfico que indica el coeficiente de correlación de cada feature en relación con la variable objetivo. Esto nos sirve para:\n",
    "\n",
    "- Evitar data leakage: Debemos asegurarnos de que ninguna característica se correlacione perfectamente con el objetivo (un coeficiente de correlación de aproximadamente 1.0). Si existe tal correlación, es una señal de que nuestro conjunto de datos podría estar \"filtrando\" información sobre el objetivo. \n",
    "\n",
    "- Garantizar relaciones significativas: Idealmente, nuestras características deberían tener algún grado de correlación con el objetivo. Inclusive si estamos trabajando con un problema de clasificación, aunque los resultados no son tan importantes como en un caso de regresión.\n",
    "\n",
    "- Auditoría y trazabilidad: Loggear esta visualización de correlación con nuestra ejecución principal de MLflow garantiza la trazabilidad. Proporciona una instantánea de las características de los datos en el momento del entrenamiento del modelo, lo cual es invaluable para propósitos de auditoría y replicabilidad."
   ]
  },
  {
   "cell_type": "code",
   "execution_count": 19,
   "metadata": {
    "ExecuteTime": {
     "end_time": "2024-06-06T12:33:29.152729Z",
     "start_time": "2024-06-06T12:33:26.288918Z"
    }
   },
   "outputs": [],
   "source": [
    "from plots import plot_correlation_with_target, plot_information_gain_with_target"
   ]
  },
  {
   "cell_type": "code",
   "execution_count": 20,
   "metadata": {
    "ExecuteTime": {
     "end_time": "2024-06-06T12:33:29.957355Z",
     "start_time": "2024-06-06T12:33:29.776398Z"
    }
   },
   "outputs": [],
   "source": [
    "target_column = y_train.columns[0]\n",
    "correlation_plot = plot_correlation_with_target(X_train, y_train, target_col=target_column)\n",
    "information_gain_plot = plot_information_gain_with_target(X_train, y_train, target_col=target_column)"
   ]
  },
  {
   "cell_type": "markdown",
   "metadata": {},
   "source": [
    "## Arrancamos a experimentar"
   ]
  },
  {
   "cell_type": "code",
   "execution_count": 21,
   "metadata": {
    "ExecuteTime": {
     "end_time": "2024-06-06T12:33:31.839716Z",
     "start_time": "2024-06-06T12:33:31.179611Z"
    }
   },
   "outputs": [],
   "source": [
    "import datetime\n",
    "import optuna\n",
    "\n",
    "from mlflow.models import infer_signature\n",
    "from mlflow_aux import get_or_create_experiment\n",
    "\n",
    "from optuna_aux import champion_callback, objective\n",
    "\n",
    "from sklearn.svm import SVC \n",
    "from sklearn.tree import DecisionTreeClassifier\n",
    "from sklearn.ensemble import RandomForestClassifier\n",
    "from sklearn.metrics import f1_score\n",
    "\n",
    "# Optuna es un poco verboso, dejamos que solo nos muestre logs de errores\n",
    "optuna.logging.set_verbosity(optuna.logging.ERROR)"
   ]
  },
  {
   "cell_type": "markdown",
   "metadata": {},
   "source": [
    "Antes de poder realizar experimentos, vamos a crear el experimento en MLFLow, pero para evitar desorden, vamos a usar una función que se fije primero si el experimento existe, si esto es así, devuelve su ID.\n",
    "\n",
    "Además creamos el nombre del run padre con el que vamos a ir registrando las ejecuciones."
   ]
  },
  {
   "cell_type": "code",
   "execution_count": 9,
   "metadata": {
    "ExecuteTime": {
     "end_time": "2024-06-06T12:33:35.350189Z",
     "start_time": "2024-06-06T12:33:35.106741Z"
    }
   },
   "outputs": [
    {
     "name": "stdout",
     "output_type": "stream",
     "text": [
      "1\n"
     ]
    }
   ],
   "source": [
    "# Creemos el experimento\n",
    "experiment_id = get_or_create_experiment(\"Airbnb Buenos Aires\")\n",
    "print(experiment_id)\n",
    "\n",
    "run_name_parent = \"best_hyperparam_\"  + datetime.datetime.today().strftime('%Y/%m/%d-%H:%M:%S\"')"
   ]
  },
  {
   "cell_type": "markdown",
   "metadata": {},
   "source": [
    "Ya con todo seteado, vamos a ejecutar la optimización usando Optuna, el cual realiza una búsqueda Bayesiana, la cual es más eficiente que una búsqueda de grilla tradicional. La desventaja es que es más difícil de paralelizar."
   ]
  },
  {
   "cell_type": "code",
   "execution_count": 10,
   "metadata": {
    "ExecuteTime": {
     "end_time": "2024-06-06T12:33:57.072627Z",
     "start_time": "2024-06-06T12:33:37.081460Z"
    },
    "scrolled": true
   },
   "outputs": [
    {
     "name": "stdout",
     "output_type": "stream",
     "text": [
      "🏃 View run Trial: 0 at: http://localhost:5001/#/experiments/1/runs/92cb225f27a4415da3d550bbd1b3d844\n",
      "🧪 View experiment at: http://localhost:5001/#/experiments/1\n",
      "Initial trial 0 achieved value: 0.00969804334151603\n",
      "🏃 View run Trial: 1 at: http://localhost:5001/#/experiments/1/runs/a9beb1e50cd044bb807a561edad5cc2e\n",
      "🧪 View experiment at: http://localhost:5001/#/experiments/1\n",
      "Trial 1 achieved value: 0.05171043124636158 with  81.2455% improvement\n",
      "🏃 View run Trial: 1 at: http://localhost:5001/#/experiments/1/runs/a9beb1e50cd044bb807a561edad5cc2e\n",
      "🧪 View experiment at: http://localhost:5001/#/experiments/1\n",
      "Trial 1 achieved value: 0.05171043124636158 with  81.2455% improvement\n",
      "🏃 View run Trial: 2 at: http://localhost:5001/#/experiments/1/runs/7c8da153ebb240ab8cd6ddd6c3f923ec\n",
      "🧪 View experiment at: http://localhost:5001/#/experiments/1\n",
      "🏃 View run Trial: 2 at: http://localhost:5001/#/experiments/1/runs/7c8da153ebb240ab8cd6ddd6c3f923ec\n",
      "🧪 View experiment at: http://localhost:5001/#/experiments/1\n",
      "🏃 View run Trial: 3 at: http://localhost:5001/#/experiments/1/runs/c20b90fa47664aa793ef0fe787ff740a\n",
      "🧪 View experiment at: http://localhost:5001/#/experiments/1\n",
      "🏃 View run Trial: 3 at: http://localhost:5001/#/experiments/1/runs/c20b90fa47664aa793ef0fe787ff740a\n",
      "🧪 View experiment at: http://localhost:5001/#/experiments/1\n",
      "🏃 View run Trial: 4 at: http://localhost:5001/#/experiments/1/runs/2bc9a4bd73504b0e877092beb07a0cbd\n",
      "🧪 View experiment at: http://localhost:5001/#/experiments/1\n",
      "Trial 4 achieved value: 0.1243968074708566 with  58.4311% improvement\n",
      "🏃 View run Trial: 4 at: http://localhost:5001/#/experiments/1/runs/2bc9a4bd73504b0e877092beb07a0cbd\n",
      "🧪 View experiment at: http://localhost:5001/#/experiments/1\n",
      "Trial 4 achieved value: 0.1243968074708566 with  58.4311% improvement\n",
      "🏃 View run Trial: 5 at: http://localhost:5001/#/experiments/1/runs/d5ecd6cdc4eb41d99386911f0fe35d4b\n",
      "🧪 View experiment at: http://localhost:5001/#/experiments/1\n",
      "🏃 View run Trial: 5 at: http://localhost:5001/#/experiments/1/runs/d5ecd6cdc4eb41d99386911f0fe35d4b\n",
      "🧪 View experiment at: http://localhost:5001/#/experiments/1\n",
      "🏃 View run Trial: 6 at: http://localhost:5001/#/experiments/1/runs/c933cd4069a7470c995abb5023cfba03\n",
      "🧪 View experiment at: http://localhost:5001/#/experiments/1\n",
      "Trial 6 achieved value: 0.2686423840909871 with  53.6943% improvement\n",
      "🏃 View run Trial: 6 at: http://localhost:5001/#/experiments/1/runs/c933cd4069a7470c995abb5023cfba03\n",
      "🧪 View experiment at: http://localhost:5001/#/experiments/1\n",
      "Trial 6 achieved value: 0.2686423840909871 with  53.6943% improvement\n",
      "🏃 View run Trial: 7 at: http://localhost:5001/#/experiments/1/runs/e25fff8acf224a0b8a77d402bdbaeb61\n",
      "🧪 View experiment at: http://localhost:5001/#/experiments/1\n",
      "🏃 View run Trial: 7 at: http://localhost:5001/#/experiments/1/runs/e25fff8acf224a0b8a77d402bdbaeb61\n",
      "🧪 View experiment at: http://localhost:5001/#/experiments/1\n",
      "🏃 View run Trial: 8 at: http://localhost:5001/#/experiments/1/runs/580290d94970489d94537ea574d31a9f\n",
      "🧪 View experiment at: http://localhost:5001/#/experiments/1\n",
      "🏃 View run Trial: 8 at: http://localhost:5001/#/experiments/1/runs/580290d94970489d94537ea574d31a9f\n",
      "🧪 View experiment at: http://localhost:5001/#/experiments/1\n",
      "🏃 View run Trial: 9 at: http://localhost:5001/#/experiments/1/runs/1ae01138ee5145c2be752879b8b05b35\n",
      "🧪 View experiment at: http://localhost:5001/#/experiments/1\n",
      "🏃 View run Trial: 9 at: http://localhost:5001/#/experiments/1/runs/1ae01138ee5145c2be752879b8b05b35\n",
      "🧪 View experiment at: http://localhost:5001/#/experiments/1\n",
      "🏃 View run Trial: 10 at: http://localhost:5001/#/experiments/1/runs/b3dec50f8768448689a937c681dd343d\n",
      "🧪 View experiment at: http://localhost:5001/#/experiments/1\n",
      "🏃 View run Trial: 10 at: http://localhost:5001/#/experiments/1/runs/b3dec50f8768448689a937c681dd343d\n",
      "🧪 View experiment at: http://localhost:5001/#/experiments/1\n",
      "🏃 View run Trial: 11 at: http://localhost:5001/#/experiments/1/runs/076bdcc2aa6044dcadb6c877785ccc36\n",
      "🧪 View experiment at: http://localhost:5001/#/experiments/1\n",
      "Trial 11 achieved value: 0.27637524605118335 with  2.7980% improvement\n",
      "🏃 View run Trial: 11 at: http://localhost:5001/#/experiments/1/runs/076bdcc2aa6044dcadb6c877785ccc36\n",
      "🧪 View experiment at: http://localhost:5001/#/experiments/1\n",
      "Trial 11 achieved value: 0.27637524605118335 with  2.7980% improvement\n",
      "🏃 View run Trial: 12 at: http://localhost:5001/#/experiments/1/runs/0585fe2d30bf46eba85e8a964850aa00\n",
      "🧪 View experiment at: http://localhost:5001/#/experiments/1\n",
      "🏃 View run Trial: 12 at: http://localhost:5001/#/experiments/1/runs/0585fe2d30bf46eba85e8a964850aa00\n",
      "🧪 View experiment at: http://localhost:5001/#/experiments/1\n",
      "🏃 View run Trial: 13 at: http://localhost:5001/#/experiments/1/runs/8db7043e9a3f44439ddeadaacaa2941a\n",
      "🧪 View experiment at: http://localhost:5001/#/experiments/1\n",
      "🏃 View run Trial: 13 at: http://localhost:5001/#/experiments/1/runs/8db7043e9a3f44439ddeadaacaa2941a\n",
      "🧪 View experiment at: http://localhost:5001/#/experiments/1\n",
      "🏃 View run Trial: 14 at: http://localhost:5001/#/experiments/1/runs/7937cd9c1ed84c9d979b506a1d6dfd7e\n",
      "🧪 View experiment at: http://localhost:5001/#/experiments/1\n",
      "🏃 View run Trial: 14 at: http://localhost:5001/#/experiments/1/runs/7937cd9c1ed84c9d979b506a1d6dfd7e\n",
      "🧪 View experiment at: http://localhost:5001/#/experiments/1\n",
      "🏃 View run Trial: 15 at: http://localhost:5001/#/experiments/1/runs/c8e6819b53074bd88ff1a612c1ed6039\n",
      "🧪 View experiment at: http://localhost:5001/#/experiments/1\n",
      "🏃 View run Trial: 15 at: http://localhost:5001/#/experiments/1/runs/c8e6819b53074bd88ff1a612c1ed6039\n",
      "🧪 View experiment at: http://localhost:5001/#/experiments/1\n",
      "🏃 View run Trial: 16 at: http://localhost:5001/#/experiments/1/runs/86ccf25215f145e48b1b6ba4504ab23f\n",
      "🧪 View experiment at: http://localhost:5001/#/experiments/1\n",
      "🏃 View run Trial: 16 at: http://localhost:5001/#/experiments/1/runs/86ccf25215f145e48b1b6ba4504ab23f\n",
      "🧪 View experiment at: http://localhost:5001/#/experiments/1\n",
      "🏃 View run Trial: 17 at: http://localhost:5001/#/experiments/1/runs/17d75e7c0b7d4e1b9daac2cc73698e71\n",
      "🧪 View experiment at: http://localhost:5001/#/experiments/1\n",
      "🏃 View run Trial: 17 at: http://localhost:5001/#/experiments/1/runs/17d75e7c0b7d4e1b9daac2cc73698e71\n",
      "🧪 View experiment at: http://localhost:5001/#/experiments/1\n",
      "🏃 View run Trial: 18 at: http://localhost:5001/#/experiments/1/runs/92396baee24c4d7bae5aadde4bdca804\n",
      "🧪 View experiment at: http://localhost:5001/#/experiments/1\n",
      "🏃 View run Trial: 18 at: http://localhost:5001/#/experiments/1/runs/92396baee24c4d7bae5aadde4bdca804\n",
      "🧪 View experiment at: http://localhost:5001/#/experiments/1\n",
      "🏃 View run Trial: 19 at: http://localhost:5001/#/experiments/1/runs/cdff574110f548299b8aa63a176c2008\n",
      "🧪 View experiment at: http://localhost:5001/#/experiments/1\n",
      "🏃 View run Trial: 19 at: http://localhost:5001/#/experiments/1/runs/cdff574110f548299b8aa63a176c2008\n",
      "🧪 View experiment at: http://localhost:5001/#/experiments/1\n",
      "========== MÉTRICAS DE EVALUACIÓN ==========\n",
      "Accuracy:           0.7012\n",
      "Precision:          0.2697\n",
      "Recall (Sensitivity): 0.3002\n",
      "Specificity:        0.7999\n",
      "F1-Score:           0.2841\n",
      "Balanced Accuracy:  0.5501\n",
      "ROC-AUC:            0.5499\n",
      "PR-AUC:             0.3536\n",
      "Matthews Corr Coef: 0.0962\n",
      "\n",
      "========== MATRIZ DE CONFUSIÓN ==========\n",
      "True Positives:     562\n",
      "True Negatives:     6084\n",
      "False Positives:    1522\n",
      "False Negatives:    1310\n",
      "========== MÉTRICAS DE EVALUACIÓN ==========\n",
      "Accuracy:           0.7012\n",
      "Precision:          0.2697\n",
      "Recall (Sensitivity): 0.3002\n",
      "Specificity:        0.7999\n",
      "F1-Score:           0.2841\n",
      "Balanced Accuracy:  0.5501\n",
      "ROC-AUC:            0.5499\n",
      "PR-AUC:             0.3536\n",
      "Matthews Corr Coef: 0.0962\n",
      "\n",
      "========== MATRIZ DE CONFUSIÓN ==========\n",
      "True Positives:     562\n",
      "True Negatives:     6084\n",
      "False Positives:    1522\n",
      "False Negatives:    1310\n"
     ]
    },
    {
     "name": "stderr",
     "output_type": "stream",
     "text": [
      "2025/08/02 22:19:44 WARNING mlflow.models.model: `artifact_path` is deprecated. Please use `name` instead.\n",
      "Successfully registered model 'airbnb_model_dev'.\n",
      "Successfully registered model 'airbnb_model_dev'.\n",
      "2025/08/02 22:19:48 INFO mlflow.store.model_registry.abstract_store: Waiting up to 300 seconds for model version to finish creation. Model name: airbnb_model_dev, version 1\n",
      "2025/08/02 22:19:48 INFO mlflow.store.model_registry.abstract_store: Waiting up to 300 seconds for model version to finish creation. Model name: airbnb_model_dev, version 1\n"
     ]
    },
    {
     "name": "stdout",
     "output_type": "stream",
     "text": [
      "🏃 View run best_hyperparam_2025/08/02-20:50:38\" at: http://localhost:5001/#/experiments/1/runs/8bd9704dbdd24be68200fe1be54c7335\n",
      "🧪 View experiment at: http://localhost:5001/#/experiments/1\n"
     ]
    },
    {
     "name": "stderr",
     "output_type": "stream",
     "text": [
      "Created version '1' of model 'airbnb_model_dev'.\n"
     ]
    }
   ],
   "source": [
    "from sklearn.metrics import (accuracy_score, precision_score, recall_score, f1_score, \n",
    "                             roc_auc_score, classification_report, confusion_matrix, \n",
    "                             precision_recall_curve, roc_curve, auc)\n",
    "import numpy as np\n",
    "\n",
    "with mlflow.start_run(experiment_id=experiment_id, run_name=run_name_parent, nested=True):\n",
    "    # Inicializamos el estudio de Optuna\n",
    "    study = optuna.create_study(direction=\"maximize\")\n",
    "\n",
    "    # Ejecutamos los trials de optimización de hiperparametros. Cada uno de estos trials se ejecuta con un run separado, pero \n",
    "    # está anidado al run padre.\n",
    "    # Notar la adición del `champion_callback` para controlar qué mensajes mostramos\n",
    "    # Para entender mejor esto ver la documentación de objective y champion_callback en optuna_aux\n",
    "    study.optimize(lambda trial: objective(trial, X_train, y_train, experiment_id), n_trials=20, callbacks=[champion_callback])\n",
    "\n",
    "    # Una vez que terminamos la búsqueda, guardamos los mejores parámetros en el run padre.\n",
    "    mlflow.log_params(study.best_params)\n",
    "    mlflow.log_metric(\"best_train_f1\", study.best_value)\n",
    "\n",
    "    mlflow.set_tags(\n",
    "        tags={\n",
    "            \"project\": \"Airbnb Buenos Aires\",\n",
    "            \"optimizer_engine\": \"optuna\",\n",
    "            \"model_family\": \"sklearn\",\n",
    "            \"feature_set_version\": 1,\n",
    "        }\n",
    "    )\n",
    "\n",
    "    # Una vez que terminamos la búsqueda, nos quedamos con el mejor modelo y lo entrenamos\n",
    "    if study.best_params[\"classifier\"] == \"SVC_linear\":\n",
    "        model = SVC(C=study.best_params[\"svc_c\"], kernel='linear', gamma='scale', probability=True)\n",
    "    elif study.best_params[\"classifier\"] == \"SVC_poly\":\n",
    "        model = SVC(C=study.best_params[\"svc_c\"], kernel='poly', \n",
    "                    gamma='scale', degree=study.best_params[\"svc_poly_degree\"], probability=True)\n",
    "    elif study.best_params[\"classifier\"] == \"SVC_rbf\":\n",
    "        model = SVC(C=study.best_params[\"svc_c\"], kernel='rbf', gamma='scale', probability=True)\n",
    "    elif study.best_params[\"classifier\"] == \"DecisionTreeClassifier\":\n",
    "        model = DecisionTreeClassifier(max_depth=study.best_params[\"tree_max_depth\"])\n",
    "    else:\n",
    "        model = RandomForestClassifier(max_depth=study.best_params[\"rf_max_depth\"], \n",
    "                                       n_estimators=study.best_params[\"rf_n_estimators\"])\n",
    "\n",
    "    model = model.fit(X_train, y_train.to_numpy().ravel())\n",
    "\n",
    "    # Predicciones y probabilidades para las métricas\n",
    "    y_pred = model.predict(X_test)\n",
    "    y_pred_proba = model.predict_proba(X_test)[:, 1]  # Probabilidades para la clase positiva\n",
    "    \n",
    "    y_test_array = y_test.to_numpy().ravel()\n",
    "\n",
    "    # ========== MÉTRICAS DE CLASIFICACIÓN ==========\n",
    "    \n",
    "    # Métricas básicas\n",
    "    accuracy = accuracy_score(y_test_array, y_pred)\n",
    "    precision = precision_score(y_test_array, y_pred)\n",
    "    recall = recall_score(y_test_array, y_pred)\n",
    "    f1 = f1_score(y_test_array, y_pred)\n",
    "    \n",
    "    # AUC-ROC\n",
    "    roc_auc = roc_auc_score(y_test_array, y_pred_proba)\n",
    "    \n",
    "    # Precision-Recall AUC\n",
    "    precision_vals, recall_vals, _ = precision_recall_curve(y_test_array, y_pred_proba)\n",
    "    pr_auc = auc(recall_vals, precision_vals)\n",
    "    \n",
    "    # Especificidad (True Negative Rate)\n",
    "    tn, fp, fn, tp = confusion_matrix(y_test_array, y_pred).ravel()\n",
    "    specificity = tn / (tn + fp)\n",
    "    \n",
    "    # Balanced Accuracy\n",
    "    balanced_accuracy = (recall + specificity) / 2\n",
    "    \n",
    "    # Matthews Correlation Coefficient\n",
    "    mcc = ((tp * tn) - (fp * fn)) / np.sqrt((tp + fp) * (tp + fn) * (tn + fp) * (tn + fn))\n",
    "    \n",
    "    # Log de todas las métricas en MLflow\n",
    "    mlflow.log_metrics({\n",
    "        \"test_accuracy\": accuracy,\n",
    "        \"test_precision\": precision,\n",
    "        \"test_recall\": recall,\n",
    "        \"test_f1\": f1,\n",
    "        \"test_roc_auc\": roc_auc,\n",
    "        \"test_pr_auc\": pr_auc,\n",
    "        \"test_specificity\": specificity,\n",
    "        \"test_balanced_accuracy\": balanced_accuracy,\n",
    "        \"test_mcc\": mcc,\n",
    "        \"test_true_positives\": int(tp),\n",
    "        \"test_true_negatives\": int(tn),\n",
    "        \"test_false_positives\": int(fp),\n",
    "        \"test_false_negatives\": int(fn)\n",
    "    })\n",
    "    \n",
    "    # Imprimir resumen de métricas\n",
    "    print(\"========== MÉTRICAS DE EVALUACIÓN ==========\")\n",
    "    print(f\"Accuracy:           {accuracy:.4f}\")\n",
    "    print(f\"Precision:          {precision:.4f}\")\n",
    "    print(f\"Recall (Sensitivity): {recall:.4f}\")\n",
    "    print(f\"Specificity:        {specificity:.4f}\")\n",
    "    print(f\"F1-Score:           {f1:.4f}\")\n",
    "    print(f\"Balanced Accuracy:  {balanced_accuracy:.4f}\")\n",
    "    print(f\"ROC-AUC:            {roc_auc:.4f}\")\n",
    "    print(f\"PR-AUC:             {pr_auc:.4f}\")\n",
    "    print(f\"Matthews Corr Coef: {mcc:.4f}\")\n",
    "    print(\"\\n========== MATRIZ DE CONFUSIÓN ==========\")\n",
    "    print(f\"True Positives:     {tp}\")\n",
    "    print(f\"True Negatives:     {tn}\")\n",
    "    print(f\"False Positives:    {fp}\")\n",
    "    print(f\"False Negatives:    {fn}\")\n",
    "\n",
    "    # Logueamos los artefactos de las gráficas de correlación y de information_gain\n",
    "    mlflow.log_figure(figure=correlation_plot, artifact_file=\"correlation_plot.png\")\n",
    "    mlflow.log_figure(figure=information_gain_plot, artifact_file=\"information_gain_plot.png\")\n",
    "\n",
    "    # Guardamos el artefacto del modelo\n",
    "    artifact_path = \"model\"\n",
    "\n",
    "    signature = infer_signature(X_train, model.predict(X_train))\n",
    "\n",
    "    mlflow.sklearn.log_model(\n",
    "        sk_model=model,\n",
    "        artifact_path=artifact_path,\n",
    "        signature=signature,\n",
    "        serialization_format='cloudpickle',\n",
    "        registered_model_name=\"airbnb_model_dev\",\n",
    "        metadata={\"model_data_version\": 1}\n",
    "    )\n",
    "\n",
    "    # Obtenemos la ubicación del modelo guardado en MLFlow\n",
    "    model_uri = mlflow.get_artifact_uri(artifact_path)\n"
   ]
  },
  {
   "cell_type": "markdown",
   "metadata": {},
   "source": [
    "## Testeando el modelo\n",
    "\n",
    "Una vez que el modelo fue entrenado, podemos levantarlo y testearlo de una forma agnóstica a donde está guardado."
   ]
  },
  {
   "cell_type": "code",
   "execution_count": null,
   "metadata": {
    "ExecuteTime": {
     "end_time": "2024-06-06T12:33:57.138907Z",
     "start_time": "2024-06-06T12:33:57.074256Z"
    }
   },
   "outputs": [
    {
     "data": {
      "application/vnd.jupyter.widget-view+json": {
       "model_id": "fd6897be3b9747ad92cc890dafedd8d2",
       "version_major": 2,
       "version_minor": 0
      },
      "text/plain": [
       "Downloading artifacts:   0%|          | 0/1 [00:00<?, ?it/s]"
      ]
     },
     "metadata": {},
     "output_type": "display_data"
    },
    {
     "data": {
      "application/vnd.jupyter.widget-view+json": {
       "model_id": "974b414971eb4c5b86f8d40583f412b6",
       "version_major": 2,
       "version_minor": 0
      },
      "text/plain": [
       "Downloading artifacts:   0%|          | 0/5 [00:00<?, ?it/s]"
      ]
     },
     "metadata": {},
     "output_type": "display_data"
    }
   ],
   "source": [
    "loaded = mlflow.sklearn.load_model(model_uri)"
   ]
  },
  {
   "cell_type": "code",
   "execution_count": 10,
   "metadata": {
    "ExecuteTime": {
     "end_time": "2024-06-06T12:33:57.148986Z",
     "start_time": "2024-06-06T12:33:57.139819Z"
    }
   },
   "outputs": [
    {
     "name": "stderr",
     "output_type": "stream",
     "text": [
      "/Users/facundolucianna/Docencia/UBA/Aprendizaje de Maquina II/Repo/aprendizaje_maquina_II/.venv/lib/python3.11/site-packages/sklearn/utils/validation.py:2749: UserWarning: X does not have valid feature names, but SVC was fitted with feature names\n",
      "  warnings.warn(\n"
     ]
    },
    {
     "data": {
      "text/plain": [
       "array([1])"
      ]
     },
     "execution_count": 10,
     "metadata": {},
     "output_type": "execute_result"
    }
   ],
   "source": [
    "import numpy as np\n",
    "test_data = [-1.0431146438366603, 0.6689936080056726, 0.5955141571109206, 1.4218278518511829, -0.3955054753168235,\n",
    "             -0.195684619877533, 1.445528359737701, -0.8782783888787548, -0.4354941703556927, -0.6313862911472252,\n",
    "             1.0752906583803283, -0.0987729596649589, 0.957427107756338, 1.1071614388213236, -0.2991215208080594,\n",
    "             -0.5494422557947561, -0.362142984170074, 4.690415759823429, -0.2253029545296664, 1.1980376111153852]\n",
    "loaded.predict(np.array(test_data).reshape([1, -1]))"
   ]
  },
  {
   "cell_type": "markdown",
   "metadata": {},
   "source": [
    "## Registramos el modelo \n",
    "\n",
    "Realizamos el registro del modelo en MLflow. En este registro se pone el modelo productivo que luego se usará para servir en formato on-line."
   ]
  },
  {
   "cell_type": "code",
   "execution_count": null,
   "metadata": {
    "ExecuteTime": {
     "end_time": "2024-06-06T12:33:57.237830Z",
     "start_time": "2024-06-06T12:33:57.153650Z"
    }
   },
   "outputs": [],
   "source": [
    "from mlflow import MlflowClient\n",
    "\n",
    "client = MlflowClient()\n",
    "name = \"airbnb_model_prod\"\n",
    "desc = \"This classifier detects if an appartment will be occupied or not\"\n",
    "\n",
    "# Creamos el modelo productivo\n",
    "client.create_registered_model(name=name, description=desc)\n",
    "\n",
    "# Guardamos como tag los hiper-parametros en la version del modelo\n",
    "tags = model.get_params()\n",
    "tags[\"model\"] = type(model).__name__\n",
    "tags[\"f1-score\"] = f1_score\n",
    "\n",
    "# Guardamos la version del modelo\n",
    "result = client.create_model_version(\n",
    "    name=name,\n",
    "    source=model_uri,\n",
    "    run_id=model_uri.split(\"/\")[-3],\n",
    "    tags=tags\n",
    ")\n",
    "\n",
    "# Y creamos como la version con el alias de champion para poder levantarlo en nuestro\n",
    "# proceso de servicio del modelo on-line.\n",
    "client.set_registered_model_alias(name, \"champion\", result.version)"
   ]
  },
  {
   "cell_type": "code",
   "execution_count": null,
   "metadata": {
    "collapsed": false,
    "jupyter": {
     "outputs_hidden": false
    }
   },
   "outputs": [],
   "source": []
  }
 ],
 "metadata": {
  "kernelspec": {
   "display_name": "CEIA",
   "language": "python",
   "name": "python3"
  },
  "language_info": {
   "codemirror_mode": {
    "name": "ipython",
    "version": 3
   },
   "file_extension": ".py",
   "mimetype": "text/x-python",
   "name": "python",
   "nbconvert_exporter": "python",
   "pygments_lexer": "ipython3",
   "version": "3.11.10"
  }
 },
 "nbformat": 4,
 "nbformat_minor": 4
}
